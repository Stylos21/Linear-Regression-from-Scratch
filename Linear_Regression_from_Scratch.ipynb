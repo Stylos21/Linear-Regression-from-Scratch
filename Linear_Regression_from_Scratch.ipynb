{
  "nbformat": 4,
  "nbformat_minor": 0,
  "metadata": {
    "colab": {
      "name": "Linear Regression from Scratch",
      "provenance": [],
      "authorship_tag": "ABX9TyMQXfl44eJD0QGHSoIY8y4v",
      "include_colab_link": true
    },
    "kernelspec": {
      "name": "python3",
      "display_name": "Python 3"
    },
    "language_info": {
      "name": "python"
    }
  },
  "cells": [
    {
      "cell_type": "markdown",
      "metadata": {
        "id": "view-in-github",
        "colab_type": "text"
      },
      "source": [
        "<a href=\"https://colab.research.google.com/github/Stylos21/Linear-Regression-from-Scratch/blob/main/Linear_Regression_from_Scratch.ipynb\" target=\"_parent\"><img src=\"https://colab.research.google.com/assets/colab-badge.svg\" alt=\"Open In Colab\"/></a>"
      ]
    },
    {
      "cell_type": "code",
      "execution_count": null,
      "metadata": {
        "id": "vQQridz6rTRD"
      },
      "outputs": [],
      "source": [
        "def u(y_pval, y_val):\n",
        "  return y_pval - y_val"
      ]
    },
    {
      "cell_type": "code",
      "source": [
        "def c(y_p, y):\n",
        "  loss = 0\n",
        "  for i in range(len(y)):\n",
        "    loss += u(y_p[i], y[i]) ** 2\n",
        "  return loss / len(y)"
      ],
      "metadata": {
        "id": "dZ-fRwjsrkbY"
      },
      "execution_count": null,
      "outputs": []
    },
    {
      "cell_type": "code",
      "source": [
        "def pd_cb(y_p, y):\n",
        "  loss = 0\n",
        "  for i in range(len(y)):\n",
        "    loss += u(y_p[i], y[i])\n",
        "  return (loss * 2) / len(y)"
      ],
      "metadata": {
        "id": "uGvqtkChujOT"
      },
      "execution_count": null,
      "outputs": []
    },
    {
      "cell_type": "code",
      "source": [
        "def pd_cw(y_p, y, x):\n",
        "  loss = 0\n",
        "  for i in range(len(y)):\n",
        "    loss += u(y_p[i], y[i]) * x[i]\n",
        "  return (loss * 2) / len(y)"
      ],
      "metadata": {
        "id": "ykafCZCUxtJ0"
      },
      "execution_count": null,
      "outputs": []
    },
    {
      "cell_type": "code",
      "source": [
        "EPOCHS = 1000"
      ],
      "metadata": {
        "id": "eY-uVO1K9ecc"
      },
      "execution_count": null,
      "outputs": []
    },
    {
      "cell_type": "code",
      "source": [
        "import numpy as np\n",
        "x = np.random.rand(100, 1)\n",
        "y = 3 + x * 6 + np.random.rand(100, 1)\n",
        "w = np.random.random()\n",
        "b = np.random.random()\n",
        "y_pred = [i * w + b for i in x]\n",
        "a = .01\n"
      ],
      "metadata": {
        "id": "YI2xgX_MyB7a"
      },
      "execution_count": null,
      "outputs": []
    },
    {
      "cell_type": "code",
      "source": [
        "weights = []\n",
        "biases = []\n",
        "losses = []\n",
        "for i in range(EPOCHS):\n",
        "  w = w - (a * pd_cw(y_pred, y, x))\n",
        "  b = b - (a * pd_cb(y_pred, y))\n",
        "  y_pred = [i * w + b for i in x]\n",
        "  weights.append(w)\n",
        "  biases.append(b)\n",
        "  losses.append(c(y_pred, y))"
      ],
      "metadata": {
        "id": "Y_1gLyYY9VdA"
      },
      "execution_count": null,
      "outputs": []
    },
    {
      "cell_type": "code",
      "source": [
        "print(c(y_pred, y))"
      ],
      "metadata": {
        "colab": {
          "base_uri": "https://localhost:8080/"
        },
        "id": "iVwjWQXi-BtT",
        "outputId": "69f3ccba-c12d-4d45-ae6d-6ee769fa2f9d"
      },
      "execution_count": null,
      "outputs": [
        {
          "output_type": "stream",
          "name": "stdout",
          "text": [
            "[0.13020339]\n"
          ]
        }
      ]
    },
    {
      "cell_type": "code",
      "source": [
        "import matplotlib.pyplot as plt\n",
        "# print(weights)\n",
        "fig, ax = plt.subplots(1, 3, figsize=(20, 5))\n",
        "ax[0].scatter(weights, losses)\n",
        "ax[0].set_title(\"Weight (slope) vs Loss (Error)\")\n",
        "ax[1].scatter(biases, losses)\n",
        "ax[1].set_title(\"Bias (y-int) vs Loss (Error)\")\n",
        "ax[2].scatter(np.arange(0, EPOCHS), losses)\n",
        "ax[2].set_title(\"Loss over Training Time\")\n"
      ],
      "metadata": {
        "colab": {
          "base_uri": "https://localhost:8080/",
          "height": 354
        },
        "id": "U_T5bdL-5_b7",
        "outputId": "7e580eef-696d-48c4-dd43-5007cc8a1593"
      },
      "execution_count": null,
      "outputs": [
        {
          "output_type": "execute_result",
          "data": {
            "text/plain": [
              "Text(0.5, 1.0, 'Loss over Training Time')"
            ]
          },
          "metadata": {},
          "execution_count": 9
        },
        {
          "output_type": "display_data",
          "data": {
            "text/plain": [
              "<Figure size 1440x360 with 3 Axes>"
            ],
            "image/png": "[encoded data removed]"
          },
          "metadata": {
            "needs_background": "light"
          }
        }
      ]
    },
    {
      "cell_type": "code",
      "source": [
        "print(w, b)"
      ],
      "metadata": {
        "colab": {
          "base_uri": "https://localhost:8080/"
        },
        "id": "XFSSojIl7Ltf",
        "outputId": "88c7f66e-7660-4565-9767-3628863a807e"
      },
      "execution_count": null,
      "outputs": [
        {
          "output_type": "stream",
          "name": "stdout",
          "text": [
            "[5.36260069] [3.87670921]\n"
          ]
        }
      ]
    },
    {
      "cell_type": "code",
      "source": [
        "plt.scatter(x, y)\n",
        "plt.plot(x, y_pred)"
      ],
      "metadata": {
        "colab": {
          "base_uri": "https://localhost:8080/",
          "height": 286
        },
        "id": "ut05rRfM8hp6",
        "outputId": "5b0e63fd-ca24-4899-bd07-f89f3d716c7d"
      },
      "execution_count": null,
      "outputs": [
        {
          "output_type": "execute_result",
          "data": {
            "text/plain": [
              "[<matplotlib.lines.Line2D at 0x7fbb89f36650>]"
            ]
          },
          "metadata": {},
          "execution_count": 11
        },
        {
          "output_type": "display_data",
          "data": {
            "text/plain": [
              "<Figure size 432x288 with 1 Axes>"
            ],
            "image/png": "[encoded data removed]"
          },
          "metadata": {
            "needs_background": "light"
          }
        }
      ]
    }
  ]
}